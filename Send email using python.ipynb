{
 "cells": [
  {
   "cell_type": "code",
   "execution_count": 9,
   "metadata": {},
   "outputs": [],
   "source": [
    "import smtplib\n",
    "import getpass\n",
    "from email.mime.text  import MIMEText"
   ]
  },
  {
   "cell_type": "code",
   "execution_count": 11,
   "metadata": {},
   "outputs": [
    {
     "name": "stdout",
     "output_type": "stream",
     "text": [
      "········\n"
     ]
    }
   ],
   "source": [
    "def send_email():\n",
    "    \n",
    "    sender_address = \"sheyoran2000@gmail.com\"\n",
    "    password = getpass.getpass()\n",
    "    subject  = 'I love you so much Golu'\n",
    "    msg = '''Hello golu how !'''\n",
    "    \n",
    "    server = smtplib.SMTP(\"smtp.gmail.com\" , 587)\n",
    "    server.starttls()\n",
    "    server.login(sender_address , password)\n",
    "    \n",
    "    msg = MIMEText(msg)\n",
    "    msg[\"Subject\"] = subject\n",
    "\n",
    "    msg[\"From\"] = sender_address\n",
    "    msg[\"To\"] = \"chaudharydavidson@gmail.com\"\n",
    "    \n",
    "    recipients = \"chaudharydavidson@gmail.com\"    \n",
    "    \n",
    "    server.sendmail(sender_address , recipients , msg.as_string())\n",
    "    \n",
    "    \n",
    "send_email()"
   ]
  },
  {
   "cell_type": "code",
   "execution_count": null,
   "metadata": {},
   "outputs": [],
   "source": []
  }
 ],
 "metadata": {
  "kernelspec": {
   "display_name": "Python 3",
   "language": "python",
   "name": "python3"
  },
  "language_info": {
   "codemirror_mode": {
    "name": "ipython",
    "version": 3
   },
   "file_extension": ".py",
   "mimetype": "text/x-python",
   "name": "python",
   "nbconvert_exporter": "python",
   "pygments_lexer": "ipython3",
   "version": "3.7.6"
  }
 },
 "nbformat": 4,
 "nbformat_minor": 4
}
